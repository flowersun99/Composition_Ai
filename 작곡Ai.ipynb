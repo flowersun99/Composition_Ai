{
  "nbformat": 4,
  "nbformat_minor": 0,
  "metadata": {
    "colab": {
      "provenance": [],
      "mount_file_id": "1S4vDELiWS80voLpyAhaVB1ATFON0O2f3",
      "authorship_tag": "ABX9TyN+7+Y6CWi9a9ZwBzSQf++q",
      "include_colab_link": true
    },
    "kernelspec": {
      "name": "python3",
      "display_name": "Python 3"
    },
    "language_info": {
      "name": "python"
    }
  },
  "cells": [
    {
      "cell_type": "markdown",
      "metadata": {
        "id": "view-in-github",
        "colab_type": "text"
      },
      "source": [
        "<a href=\"https://colab.research.google.com/github/flowersun99/Composition_Ai/blob/main/%EC%9E%91%EA%B3%A1Ai.ipynb\" target=\"_parent\"><img src=\"https://colab.research.google.com/assets/colab-badge.svg\" alt=\"Open In Colab\"/></a>"
      ]
    },
    {
      "cell_type": "code",
      "execution_count": null,
      "metadata": {
        "colab": {
          "base_uri": "https://localhost:8080/"
        },
        "id": "TuduCM0p31-k",
        "outputId": "0299af1b-da1e-4596-c17a-3ce98884901c"
      },
      "outputs": [
        {
          "output_type": "stream",
          "name": "stdout",
          "text": [
            "['\"', \"'\", ',', '/', '1', '2', '3', '4', '5', '6', '7', '8', '9', ':', 'A', 'B', 'C', 'D', 'E', 'F', 'G', '^', '_', 'a', 'b', 'c', 'd', 'e', 'f', 'g', 'z']\n"
          ]
        }
      ],
      "source": [
        "text = open('pianoabc.txt', 'r').read()\n",
        "\n",
        "유니크text = list(set(text))\n",
        "유니크text.sort()\n",
        "print(유니크text)\n",
        "\n",
        "text_to_num = {}\n",
        "num_to_text = {}\n",
        "\n",
        "숫자화text = []\n",
        "\n",
        "for i, data in enumerate(유니크text):\n",
        "  text_to_num[data] = i\n",
        "  num_to_text[i] = data\n",
        "for i in text:\n",
        "  숫자화text.append(text_to_num[i])\n"
      ]
    },
    {
      "cell_type": "code",
      "source": [
        "import tensorflow as tf\n",
        "import pandas as pd\n",
        "import numpy as np\n",
        "\n",
        "\n",
        "X = []\n",
        "Y = []\n",
        "\n",
        "for i in range(0, len(숫자화text) - 25):\n",
        "  X.append(숫자화text[i:i+25])\n",
        "  Y.append(숫자화text[i+25])\n",
        "\n",
        "X = tf.one_hot(X, 31)\n",
        "Y = tf.one_hot(Y, 31)"
      ],
      "metadata": {
        "id": "wghFsEkZ5aJP"
      },
      "execution_count": null,
      "outputs": []
    },
    {
      "cell_type": "code",
      "source": [
        "model = tf.keras.models.Sequential([\n",
        "    tf.keras.layers.LSTM(100, input_shape=(25, 31)),\n",
        "    tf.keras.layers.Dense(31, activation='softmax')\n",
        "])\n",
        "\n",
        "model.compile(loss = 'categorical_crossentropy', optimizer='adam', metrics=['accuracy'])\n",
        "# - 31개의 문자 중 어디 속할지 예측하는 카테고리 예측문제기 때문에 categorical_crossentropy loss 함수가 필요합니다.\n",
        "# - 원핫인코딩 되어있을 때는 sparse_categorical_crossentropy 를 쓰지 않고 저걸 씁니다.\n",
        "\n",
        "model.fit(X, Y, batch_size=64, epochs=30, verbose=2)\n",
        "\n",
        "model.save('model/')"
      ],
      "metadata": {
        "colab": {
          "base_uri": "https://localhost:8080/",
          "height": 1000
        },
        "id": "_InIUoOV6hJv",
        "outputId": "3dcab9af-a18a-4ff4-b816-289e47cac7b0"
      },
      "execution_count": null,
      "outputs": [
        {
          "output_type": "stream",
          "name": "stdout",
          "text": [
            "Epoch 1/30\n",
            "4563/4563 - 162s - loss: 1.6277 - accuracy: 0.4895 - 162s/epoch - 35ms/step\n",
            "Epoch 2/30\n",
            "4563/4563 - 158s - loss: 1.3265 - accuracy: 0.5636 - 158s/epoch - 35ms/step\n",
            "Epoch 3/30\n",
            "4563/4563 - 160s - loss: 1.2309 - accuracy: 0.5962 - 160s/epoch - 35ms/step\n",
            "Epoch 4/30\n",
            "4563/4563 - 161s - loss: 1.1693 - accuracy: 0.6159 - 161s/epoch - 35ms/step\n",
            "Epoch 5/30\n",
            "4563/4563 - 158s - loss: 1.1274 - accuracy: 0.6293 - 158s/epoch - 35ms/step\n",
            "Epoch 6/30\n",
            "4563/4563 - 158s - loss: 1.0952 - accuracy: 0.6395 - 158s/epoch - 35ms/step\n",
            "Epoch 7/30\n",
            "4563/4563 - 157s - loss: 1.0700 - accuracy: 0.6479 - 157s/epoch - 34ms/step\n",
            "Epoch 8/30\n",
            "4563/4563 - 159s - loss: 1.0491 - accuracy: 0.6548 - 159s/epoch - 35ms/step\n",
            "Epoch 9/30\n",
            "4563/4563 - 157s - loss: 1.0308 - accuracy: 0.6612 - 157s/epoch - 34ms/step\n",
            "Epoch 10/30\n",
            "4563/4563 - 160s - loss: 1.0153 - accuracy: 0.6660 - 160s/epoch - 35ms/step\n",
            "Epoch 11/30\n",
            "4563/4563 - 156s - loss: 1.0019 - accuracy: 0.6702 - 156s/epoch - 34ms/step\n",
            "Epoch 12/30\n",
            "4563/4563 - 159s - loss: 0.9893 - accuracy: 0.6748 - 159s/epoch - 35ms/step\n",
            "Epoch 13/30\n",
            "4563/4563 - 156s - loss: 0.9780 - accuracy: 0.6780 - 156s/epoch - 34ms/step\n",
            "Epoch 14/30\n",
            "4563/4563 - 156s - loss: 0.9674 - accuracy: 0.6817 - 156s/epoch - 34ms/step\n",
            "Epoch 15/30\n",
            "4563/4563 - 158s - loss: 0.9570 - accuracy: 0.6847 - 158s/epoch - 35ms/step\n",
            "Epoch 16/30\n",
            "4563/4563 - 162s - loss: 0.9481 - accuracy: 0.6879 - 162s/epoch - 35ms/step\n",
            "Epoch 17/30\n",
            "4563/4563 - 159s - loss: 0.9388 - accuracy: 0.6919 - 159s/epoch - 35ms/step\n",
            "Epoch 18/30\n",
            "4563/4563 - 162s - loss: 0.9309 - accuracy: 0.6934 - 162s/epoch - 35ms/step\n",
            "Epoch 19/30\n",
            "4563/4563 - 157s - loss: 0.9227 - accuracy: 0.6969 - 157s/epoch - 34ms/step\n",
            "Epoch 20/30\n",
            "4563/4563 - 159s - loss: 0.9150 - accuracy: 0.6990 - 159s/epoch - 35ms/step\n",
            "Epoch 21/30\n",
            "4563/4563 - 157s - loss: 0.9087 - accuracy: 0.7009 - 157s/epoch - 34ms/step\n",
            "Epoch 22/30\n",
            "4563/4563 - 157s - loss: 0.9018 - accuracy: 0.7032 - 157s/epoch - 34ms/step\n",
            "Epoch 23/30\n",
            "4563/4563 - 158s - loss: 0.8959 - accuracy: 0.7060 - 158s/epoch - 35ms/step\n",
            "Epoch 24/30\n",
            "4563/4563 - 158s - loss: 0.8903 - accuracy: 0.7071 - 158s/epoch - 35ms/step\n",
            "Epoch 25/30\n",
            "4563/4563 - 158s - loss: 0.8842 - accuracy: 0.7097 - 158s/epoch - 35ms/step\n",
            "Epoch 26/30\n",
            "4563/4563 - 157s - loss: 0.8790 - accuracy: 0.7115 - 157s/epoch - 34ms/step\n",
            "Epoch 27/30\n",
            "4563/4563 - 158s - loss: 0.8736 - accuracy: 0.7133 - 158s/epoch - 35ms/step\n",
            "Epoch 28/30\n",
            "4563/4563 - 158s - loss: 0.8682 - accuracy: 0.7149 - 158s/epoch - 35ms/step\n",
            "Epoch 29/30\n",
            "4563/4563 - 158s - loss: 0.8637 - accuracy: 0.7171 - 158s/epoch - 35ms/step\n",
            "Epoch 30/30\n",
            "4563/4563 - 156s - loss: 0.8597 - accuracy: 0.7180 - 156s/epoch - 34ms/step\n"
          ]
        },
        {
          "output_type": "error",
          "ename": "TypeError",
          "evalue": "Model.save() missing 1 required positional argument: 'filepath'",
          "traceback": [
            "\u001b[0;31m---------------------------------------------------------------------------\u001b[0m",
            "\u001b[0;31mTypeError\u001b[0m                                 Traceback (most recent call last)",
            "\u001b[0;32m<ipython-input-7-ba931acb0fbf>\u001b[0m in \u001b[0;36m<cell line: 12>\u001b[0;34m()\u001b[0m\n\u001b[1;32m     10\u001b[0m \u001b[0mmodel\u001b[0m\u001b[0;34m.\u001b[0m\u001b[0mfit\u001b[0m\u001b[0;34m(\u001b[0m\u001b[0mX\u001b[0m\u001b[0;34m,\u001b[0m \u001b[0mY\u001b[0m\u001b[0;34m,\u001b[0m \u001b[0mbatch_size\u001b[0m\u001b[0;34m=\u001b[0m\u001b[0;36m64\u001b[0m\u001b[0;34m,\u001b[0m \u001b[0mepochs\u001b[0m\u001b[0;34m=\u001b[0m\u001b[0;36m30\u001b[0m\u001b[0;34m,\u001b[0m \u001b[0mverbose\u001b[0m\u001b[0;34m=\u001b[0m\u001b[0;36m2\u001b[0m\u001b[0;34m)\u001b[0m\u001b[0;34m\u001b[0m\u001b[0;34m\u001b[0m\u001b[0m\n\u001b[1;32m     11\u001b[0m \u001b[0;34m\u001b[0m\u001b[0m\n\u001b[0;32m---> 12\u001b[0;31m \u001b[0mmodel\u001b[0m\u001b[0;34m.\u001b[0m\u001b[0msave\u001b[0m\u001b[0;34m(\u001b[0m\u001b[0;34m)\u001b[0m\u001b[0;34m\u001b[0m\u001b[0;34m\u001b[0m\u001b[0m\n\u001b[0m",
            "\u001b[0;32m/usr/local/lib/python3.10/dist-packages/keras/src/utils/traceback_utils.py\u001b[0m in \u001b[0;36merror_handler\u001b[0;34m(*args, **kwargs)\u001b[0m\n\u001b[1;32m     68\u001b[0m             \u001b[0;31m# To get the full stack trace, call:\u001b[0m\u001b[0;34m\u001b[0m\u001b[0;34m\u001b[0m\u001b[0m\n\u001b[1;32m     69\u001b[0m             \u001b[0;31m# `tf.debugging.disable_traceback_filtering()`\u001b[0m\u001b[0;34m\u001b[0m\u001b[0;34m\u001b[0m\u001b[0m\n\u001b[0;32m---> 70\u001b[0;31m             \u001b[0;32mraise\u001b[0m \u001b[0me\u001b[0m\u001b[0;34m.\u001b[0m\u001b[0mwith_traceback\u001b[0m\u001b[0;34m(\u001b[0m\u001b[0mfiltered_tb\u001b[0m\u001b[0;34m)\u001b[0m \u001b[0;32mfrom\u001b[0m \u001b[0;32mNone\u001b[0m\u001b[0;34m\u001b[0m\u001b[0;34m\u001b[0m\u001b[0m\n\u001b[0m\u001b[1;32m     71\u001b[0m         \u001b[0;32mfinally\u001b[0m\u001b[0;34m:\u001b[0m\u001b[0;34m\u001b[0m\u001b[0;34m\u001b[0m\u001b[0m\n\u001b[1;32m     72\u001b[0m             \u001b[0;32mdel\u001b[0m \u001b[0mfiltered_tb\u001b[0m\u001b[0;34m\u001b[0m\u001b[0;34m\u001b[0m\u001b[0m\n",
            "\u001b[0;32m/usr/local/lib/python3.10/dist-packages/keras/src/utils/traceback_utils.py\u001b[0m in \u001b[0;36merror_handler\u001b[0;34m(*args, **kwargs)\u001b[0m\n\u001b[1;32m     63\u001b[0m         \u001b[0mfiltered_tb\u001b[0m \u001b[0;34m=\u001b[0m \u001b[0;32mNone\u001b[0m\u001b[0;34m\u001b[0m\u001b[0;34m\u001b[0m\u001b[0m\n\u001b[1;32m     64\u001b[0m         \u001b[0;32mtry\u001b[0m\u001b[0;34m:\u001b[0m\u001b[0;34m\u001b[0m\u001b[0;34m\u001b[0m\u001b[0m\n\u001b[0;32m---> 65\u001b[0;31m             \u001b[0;32mreturn\u001b[0m \u001b[0mfn\u001b[0m\u001b[0;34m(\u001b[0m\u001b[0;34m*\u001b[0m\u001b[0margs\u001b[0m\u001b[0;34m,\u001b[0m \u001b[0;34m**\u001b[0m\u001b[0mkwargs\u001b[0m\u001b[0;34m)\u001b[0m\u001b[0;34m\u001b[0m\u001b[0;34m\u001b[0m\u001b[0m\n\u001b[0m\u001b[1;32m     66\u001b[0m         \u001b[0;32mexcept\u001b[0m \u001b[0mException\u001b[0m \u001b[0;32mas\u001b[0m \u001b[0me\u001b[0m\u001b[0;34m:\u001b[0m\u001b[0;34m\u001b[0m\u001b[0;34m\u001b[0m\u001b[0m\n\u001b[1;32m     67\u001b[0m             \u001b[0mfiltered_tb\u001b[0m \u001b[0;34m=\u001b[0m \u001b[0m_process_traceback_frames\u001b[0m\u001b[0;34m(\u001b[0m\u001b[0me\u001b[0m\u001b[0;34m.\u001b[0m\u001b[0m__traceback__\u001b[0m\u001b[0;34m)\u001b[0m\u001b[0;34m\u001b[0m\u001b[0;34m\u001b[0m\u001b[0m\n",
            "\u001b[0;31mTypeError\u001b[0m: Model.save() missing 1 required positional argument: 'filepath'"
          ]
        }
      ]
    },
    {
      "cell_type": "code",
      "source": [
        "# 모델 레이어 그림으로 보여주는 코드\n",
        "from tensorflow.keras.utils import plot_model\n",
        "\n",
        "plot_model(model, to_file='model.png', show_shapes=True, show_layer_names=True)"
      ],
      "metadata": {
        "colab": {
          "base_uri": "https://localhost:8080/",
          "height": 312
        },
        "id": "uHwndjbCGq4a",
        "outputId": "a20a33b9-a90b-47e9-e567-bd0fbf38afc6"
      },
      "execution_count": null,
      "outputs": [
        {
          "output_type": "execute_result",
          "data": {
            "image/png": "[encoded data removed]",
            "text/plain": [
              "<IPython.core.display.Image object>"
            ]
          },
          "metadata": {},
          "execution_count": 8
        }
      ]
    },
    {
      "cell_type": "code",
      "source": [
        "Pmodel = tf.keras.models.load_model('drive/MyDrive/model1')"
      ],
      "metadata": {
        "colab": {
          "base_uri": "https://localhost:8080/"
        },
        "id": "PBRS0VzvcCUq",
        "outputId": "892c1ee0-f9ab-43dd-a421-8debb5136061"
      },
      "execution_count": null,
      "outputs": [
        {
          "output_type": "stream",
          "name": "stderr",
          "text": [
            "WARNING:tensorflow:SavedModel saved prior to TF 2.5 detected when loading Keras model. Please ensure that you are saving the model with model.save() or tf.keras.models.save_model(), *NOT* tf.saved_model.save(). To confirm, there should be a file named \"keras_metadata.pb\" in the SavedModel directory.\n"
          ]
        }
      ]
    },
    {
      "cell_type": "code",
      "source": [
        "첫입력값 = 숫자화text[117:117+25]\n",
        "첫입력값 = tf.one_hot(첫입력값, 31)\n",
        "첫입력값 = tf.expand_dims(첫입력값, axis=0)\n",
        "\n",
        "예측값 = model.predict(첫입력값)\n",
        "print(예측값)"
      ],
      "metadata": {
        "colab": {
          "base_uri": "https://localhost:8080/"
        },
        "id": "GWL1Yn0Mcq7h",
        "outputId": "c365615e-3b7f-477a-86f1-ec583dd3a208"
      },
      "execution_count": null,
      "outputs": [
        {
          "output_type": "stream",
          "name": "stdout",
          "text": [
            "1/1 [==============================] - 0s 34ms/step\n",
            "[[1.3888841e-07 6.6604198e-06 1.2342046e-08 1.5948013e-05 1.9218307e-09\n",
            "  9.9831402e-01 1.2410001e-05 1.6477084e-03 5.5713073e-10 7.8141049e-10\n",
            "  7.8247318e-08 3.4331379e-07 1.5804610e-15 4.3392198e-10 5.2828307e-07\n",
            "  2.7712156e-07 7.6128376e-10 7.9169178e-09 1.1022035e-08 5.9949002e-08\n",
            "  8.5228123e-08 7.3867238e-07 1.2920958e-09 4.6778291e-07 2.0503926e-08\n",
            "  6.3105574e-09 1.6399395e-07 3.1196089e-07 6.5115245e-08 2.1958464e-09\n",
            "  5.1771489e-09]]\n"
          ]
        }
      ]
    },
    {
      "cell_type": "code",
      "source": [
        "첫입력값 = 숫자화text[117:117+25]\n",
        "첫입력값 = tf.one_hot(첫입력값, 31)\n",
        "첫입력값 = tf.expand_dims(첫입력값, axis=0)\n",
        "\n",
        "music = []\n",
        "\n",
        "for i in range(30):\n",
        "  예측값 = model.predict(첫입력값)\n",
        "  예측값 = np.argmax(예측값[0])\n",
        "\n",
        "  music.append(예측값)\n",
        "  다음입력값 = 첫입력값.numpy()[0][1:]\n",
        "  one_hot_num = tf.one_hot(예측값, 31)\n",
        "  첫입력값 = np.vstack([다음입력값, one_hot_num.numpy()])\n",
        "  첫입력값 = tf.expand_dims(첫입력값, axis=0)"
      ],
      "metadata": {
        "colab": {
          "base_uri": "https://localhost:8080/"
        },
        "id": "2PvGRCk7epDA",
        "outputId": "e2dc063a-6d7f-4654-87de-bb743804abcb"
      },
      "execution_count": null,
      "outputs": [
        {
          "output_type": "stream",
          "name": "stdout",
          "text": [
            "1/1 [==============================] - 0s 26ms/step\n",
            "1/1 [==============================] - 0s 24ms/step\n",
            "1/1 [==============================] - 0s 24ms/step\n",
            "1/1 [==============================] - 0s 23ms/step\n",
            "1/1 [==============================] - 0s 27ms/step\n",
            "1/1 [==============================] - 0s 28ms/step\n",
            "1/1 [==============================] - 0s 26ms/step\n",
            "1/1 [==============================] - 0s 27ms/step\n",
            "1/1 [==============================] - 0s 26ms/step\n",
            "1/1 [==============================] - 0s 26ms/step\n",
            "1/1 [==============================] - 0s 46ms/step\n",
            "1/1 [==============================] - 0s 66ms/step\n",
            "1/1 [==============================] - 0s 46ms/step\n",
            "1/1 [==============================] - 0s 64ms/step\n",
            "1/1 [==============================] - 0s 42ms/step\n",
            "1/1 [==============================] - 0s 42ms/step\n",
            "1/1 [==============================] - 0s 42ms/step\n",
            "1/1 [==============================] - 0s 39ms/step\n",
            "1/1 [==============================] - 0s 40ms/step\n",
            "1/1 [==============================] - 0s 41ms/step\n",
            "1/1 [==============================] - 0s 42ms/step\n",
            "1/1 [==============================] - 0s 45ms/step\n",
            "1/1 [==============================] - 0s 42ms/step\n",
            "1/1 [==============================] - 0s 42ms/step\n",
            "1/1 [==============================] - 0s 46ms/step\n",
            "1/1 [==============================] - 0s 40ms/step\n",
            "1/1 [==============================] - 0s 39ms/step\n",
            "1/1 [==============================] - 0s 49ms/step\n",
            "1/1 [==============================] - 0s 48ms/step\n",
            "1/1 [==============================] - 0s 43ms/step\n"
          ]
        }
      ]
    },
    {
      "cell_type": "code",
      "source": [
        "music_text = []\n",
        "for i in music:\n",
        "  music_text.append(num_to_text[i])\n",
        "\n",
        "print(''.join(music_text))"
      ],
      "metadata": {
        "colab": {
          "base_uri": "https://localhost:8080/"
        },
        "id": "fdSaEk_ggG7w",
        "outputId": "62fc973a-3900-4958-fc5e-b442dfd96002"
      },
      "execution_count": null,
      "outputs": [
        {
          "output_type": "stream",
          "name": "stdout",
          "text": [
            "2af\"A\"edcB\"D\"A/2B/2A/2F/2\"A7\"G\n"
          ]
        }
      ]
    }
  ]
}